{
 "cells": [
  {
   "cell_type": "code",
   "execution_count": 2,
   "metadata": {},
   "outputs": [],
   "source": [
    "import pandas as pd\n",
    "import json\n",
    "\n",
    "\n"
   ]
  },
  {
   "cell_type": "code",
   "execution_count": 5,
   "metadata": {},
   "outputs": [
    {
     "name": "stdout",
     "output_type": "stream",
     "text": [
      "693\n"
     ]
    }
   ],
   "source": [
    "bot_idents = pd.read_csv('data/cresci-rtbust-2019.tsv', sep='\\t')\n",
    "\n",
    "\n",
    "\n",
    "with open('data/cresci-rtbust-2019_tweets.json', 'r') as f:\n",
    "    tweets = json.load(f) \n",
    "\n",
    "\n",
    "print(len(tweets))"
   ]
  }
 ],
 "metadata": {
  "kernelspec": {
   "display_name": "Python 3.9.12 ('base')",
   "language": "python",
   "name": "python3"
  },
  "language_info": {
   "codemirror_mode": {
    "name": "ipython",
    "version": 3
   },
   "file_extension": ".py",
   "mimetype": "text/x-python",
   "name": "python",
   "nbconvert_exporter": "python",
   "pygments_lexer": "ipython3",
   "version": "3.9.12"
  },
  "orig_nbformat": 4,
  "vscode": {
   "interpreter": {
    "hash": "b336b2e25951ee9709258584149b22d89d818b16e72dafb499a0c2ddcae7c098"
   }
  }
 },
 "nbformat": 4,
 "nbformat_minor": 2
}
